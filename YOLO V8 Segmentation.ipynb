{
  "cells": [
    {
      "cell_type": "markdown",
      "metadata": {
        "id": "2z_8X_-SzkYG"
      },
      "source": [
        "# Image segmentation code using Yolo version 8"
      ]
    },
    {
      "cell_type": "markdown",
      "metadata": {
        "id": "OaMOGB9u2xv9"
      },
      "source": [
        "## 1. Prepraring your images for train YOLOv8 model\n",
        "To train a custom YOLO v8 model using your own data, you need to prepare your dataset for YOLO by annotating your images using https://www.makesense.ai/. If you already have annotations in COCO format JSON file, then the annotations can be imported to Roboflow for conversion to YOLO format. Otherwise, if you start from scratch, just annotate datasets on Roboflow https://roboflow.com/. You just need to upload your images along with the JSON file, and Roboflow will convert them to any other format, in our case, YOLO v8.\n"
      ]
    },
    {
      "cell_type": "markdown",
      "metadata": {
        "id": "FakQawjrx-HK"
      },
      "source": [
        "## 2. Install required libraries\n",
        "Installing ultralytics library. All other libraries should be pre-installed on colab. If you are working on a local system, please make sure you install matplotlib, Pillow, numpy, Seaborn, and roboflow. You may also want to install pandas and other libraries depending on the task."
      ]
    },
    {
      "cell_type": "code",
      "execution_count": null,
      "metadata": {
        "id": "16DtJG9iNQ2H"
      },
      "outputs": [],
      "source": [
        "# Install the ultralytics package using pip\n",
        "!pip install ultralytics"
      ]
    },
    {
      "cell_type": "code",
      "execution_count": null,
      "metadata": {
        "id": "0noyF4la-SpF"
      },
      "outputs": [],
      "source": [
        "!pip install GPUtil"
      ]
    },
    {
      "cell_type": "markdown",
      "metadata": {
        "id": "bfIwgrLFygup"
      },
      "source": [
        "## 3. Import libraries"
      ]
    },
    {
      "cell_type": "code",
      "execution_count": null,
      "metadata": {
        "id": "eotMLol5O5G0"
      },
      "outputs": [],
      "source": [
        "import os\n",
        "from ultralytics import YOLO\n",
        "from matplotlib import pyplot as plt\n",
        "from PIL import Image\n",
        "from IPython.display import Image\n",
        "import GPUtil\n",
        "GPUtil.getAvailable()\n",
        "import torch\n",
        "print(torch.cuda.is_available())\n",
        "!nvidia-smi"
      ]
    },
    {
      "cell_type": "markdown",
      "metadata": {
        "id": "_ohAZBZBdQvE"
      },
      "source": [
        "## 4. Install and prepare Yolo models\n",
        "\n",
        "By running the next cell, the models with weights will be automatically downloaded and prepared for use.\n",
        "For a list of pre-trained models, checkout: https://docs.ultralytics.com/models/yolov8/#key-features"
      ]
    },
    {
      "cell_type": "code",
      "execution_count": null,
      "metadata": {
        "id": "bfhadgmPUWTm"
      },
      "outputs": [],
      "source": [
        "#Instance\n",
        "model = YOLO('yolov8n-seg.yaml')  # build a new model from YAML\n",
        "model = YOLO('yolov8n-seg.pt')  # Transfer the weights from a pretrained model (recommended for training)"
      ]
    },
    {
      "cell_type": "markdown",
      "metadata": {
        "id": "gWtpEJIO2ulG"
      },
      "source": [
        "## 5. Data paths\n",
        "1- Set paths of your in .yaml file that contains the names of your classes, number of classes and the directories for train, valid, and test datasets, respectively. and use and load it before training.\n",
        "\n",
        "2- Destination directory for all results."
      ]
    },
    {
      "cell_type": "code",
      "execution_count": 7,
      "metadata": {
        "id": "uGbhBl-rHR3Q"
      },
      "outputs": [],
      "source": [
        "# path of the YAML file for your data\n",
        "yaml_file = 'your_yaml_file.yaml'\n",
        "\n",
        "# Path for destination directory for all results\n",
        "des_results = 'path_to_save_my_results'"
      ]
    },
    {
      "cell_type": "markdown",
      "metadata": {
        "id": "0ucPAX1O38xv"
      },
      "source": [
        "## 6. Load YAML file\n",
        "Let us load the YAML file."
      ]
    },
    {
      "cell_type": "code",
      "execution_count": null,
      "metadata": {
        "id": "6-9DlovCf3e-"
      },
      "outputs": [],
      "source": [
        "# To see how many classes do you have in YAML\n",
        "import yaml\n",
        "with open(yaml_file, 'r') as stream:\n",
        "    num_classes = str(yaml.safe_load(stream)['nc'])\n",
        "num_classes"
      ]
    },
    {
      "cell_type": "markdown",
      "metadata": {
        "id": "Mxm0iW8vLCDo"
      },
      "source": [
        "## 7. Train your model using your custom dataset"
      ]
    },
    {
      "cell_type": "code",
      "execution_count": 9,
      "metadata": {
        "id": "b7JOR8RrpXtZ"
      },
      "outputs": [],
      "source": [
        "#Define a project --> Destination directory for all results\n",
        "project = des_results\n",
        "#Define subdirectory for this specific training\n",
        "name = \"1000_epochs-\" #note that if you run the training again, it creates a directory: 1000_epochs-2"
      ]
    },
    {
      "cell_type": "code",
      "execution_count": null,
      "metadata": {
        "id": "jLA_UWXEXxbz"
      },
      "outputs": [],
      "source": [
        "# Train the model\n",
        "results = model.train(data=yaml_file,\n",
        "                      project=project,\n",
        "                      name=name,\n",
        "                      epochs=1000,\n",
        "                      patience=0, #Setting patience=0 disables early stopping.\n",
        "                      batch=4,\n",
        "                      imgsz=800)"
      ]
    },
    {
      "cell_type": "markdown",
      "metadata": {
        "id": "rNq5pLQJurtl"
      },
      "source": [
        "## 8. Inference and evaluation using the trained model\n",
        "You will get best and last models you can load the best model or the latest from you path.\n",
        "\n"
      ]
    },
    {
      "cell_type": "code",
      "execution_count": 25,
      "metadata": {
        "id": "t5PjdDqQvdRQ"
      },
      "outputs": [],
      "source": [
        "# for example, we load the best model\n",
        "my_new_model = YOLO('des_results/weights/best.pt')"
      ]
    },
    {
      "cell_type": "markdown",
      "metadata": {
        "id": "1OErkX_wLsXs"
      },
      "source": [
        "Load an image and perform inference (segmentation)."
      ]
    },
    {
      "cell_type": "code",
      "execution_count": null,
      "metadata": {
        "id": "tS9ItP1Vv6-e"
      },
      "outputs": [],
      "source": [
        "new_image = 'path for an input image'\n",
        "new_results = my_new_model.predict(new_image, conf=0.2)  #Adjust conf threshold"
      ]
    },
    {
      "cell_type": "markdown",
      "metadata": {
        "id": "vm21DQKmLwy8"
      },
      "source": [
        "The results are stored in a variable 'new_results'. Since we only have one image for segmentation, we will only have one set of results. Therefore, let us work with that one result."
      ]
    },
    {
      "cell_type": "code",
      "execution_count": 19,
      "metadata": {
        "collapsed": true,
        "id": "q5IbL7to_Qhe"
      },
      "outputs": [],
      "source": [
        "new_result_array = new_results[0].plot()\n",
        "plt.figure(figsize=(12, 12))\n",
        "plt.imshow(new_result_array)\n",
        "plt.show()"
      ]
    },
    {
      "cell_type": "markdown",
      "metadata": {
        "id": "shwvr2_P31O_"
      },
      "source": [
        "## 9. Extracting masks for multi images and save them.\n"
      ]
    },
    {
      "cell_type": "code",
      "execution_count": null,
      "metadata": {
        "id": "vRTD3b_mPjqm"
      },
      "outputs": [],
      "source": [
        "cmap_custom = plt.cm.colors.ListedColormap(['black', 'white'])\n",
        "# Specify input and output directories\n",
        "input_folder = 'path for your images/'\n",
        "output_folder = 'path to save resulted masks/'\n",
        "\n",
        "# Create the output folder if it doesn't exist\n",
        "if not os.path.exists(output_folder):\n",
        "    os.makedirs(output_folder)\n",
        "\n",
        "# Process each image\n",
        "for image_name in os.listdir(input_folder):\n",
        "    # Construct image and output paths\n",
        "    image_path = os.path.join(input_folder, image_name)\n",
        "    output_path = os.path.join(output_folder, f'{os.path.splitext(image_name)[0]}_mask.png')\n",
        "\n",
        "    # Predict mask using YOLO model\n",
        "    results = my_new_model.predict(image_path, conf=0.2)\n",
        "    new_result = results[0]\n",
        "    extracted_mask = new_result.masks.data.cpu().numpy()[0]  # Assuming there is only one mask per image\n",
        "    # plt.imshow(extracted_mask)\n",
        "    # plt.show()\n",
        "    # Save the mask as a black and white image\n",
        "    #save_mask_as_bw_image(extracted_mask, output_path)\n",
        "    plt.imsave(output_path, extracted_mask, cmap=cmap_custom)\n",
        "\n",
        "print(\"Mask prediction and saving completed.\")"
      ]
    }
  ],
  "metadata": {
    "accelerator": "GPU",
    "colab": {
      "gpuType": "T4",
      "provenance": []
    },
    "kernelspec": {
      "display_name": "Python 3",
      "name": "python3"
    },
    "language_info": {
      "name": "python"
    }
  },
  "nbformat": 4,
  "nbformat_minor": 0
}
